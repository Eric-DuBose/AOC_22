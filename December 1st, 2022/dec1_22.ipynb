{
 "cells": [
  {
   "cell_type": "code",
   "execution_count": 1,
   "metadata": {},
   "outputs": [],
   "source": [
    "import aocd\n",
    "import os\n",
    "from collections import Counter\n",
    "os.chdir('C:\\\\Users\\\\night\\\\AOC_22\\\\December 1st, 2022')"
   ]
  },
  {
   "cell_type": "code",
   "execution_count": 4,
   "metadata": {},
   "outputs": [],
   "source": [
    "with open('input.txt') as f:\n",
    "    data = f.readlines()"
   ]
  },
  {
   "cell_type": "code",
   "execution_count": 10,
   "metadata": {},
   "outputs": [],
   "source": [
    "def elf_calories(df):\n",
    "    calories = [i.strip() for i in df]\n",
    "    calories = [0 if i == '' else int(i) for i in calories]\n",
    "    elves = {}\n",
    "    sum = 0\n",
    "    elf = 1\n",
    "    for x in calories:\n",
    "        if int(x) > 0:\n",
    "            sum += int(x)\n",
    "        elif x == 0:\n",
    "            elves[elf] = sum\n",
    "            sum = 0\n",
    "            elf += 1\n",
    "    return elves\n",
    "\n",
    "all_elves = elf_calories(data)"
   ]
  },
  {
   "cell_type": "code",
   "execution_count": 11,
   "metadata": {},
   "outputs": [
    {
     "data": {
      "text/plain": [
       "70509"
      ]
     },
     "execution_count": 11,
     "metadata": {},
     "output_type": "execute_result"
    }
   ],
   "source": [
    "# Solve Part 1: What's the maximum calories carried by an elf?\n",
    "\n",
    "max(all_elves.values())"
   ]
  },
  {
   "cell_type": "code",
   "execution_count": 13,
   "metadata": {},
   "outputs": [
    {
     "data": {
      "text/plain": [
       "208567"
      ]
     },
     "execution_count": 13,
     "metadata": {},
     "output_type": "execute_result"
    }
   ],
   "source": [
    "# Solve Part 2: What's the sum of the top 3 maximum calories carried by an elves?\n",
    "\n",
    "top_three = Counter(all_elves).most_common(3)\n",
    "top_three[0][1] + top_three[1][1] + top_three[2][1]"
   ]
  }
 ],
 "metadata": {
  "kernelspec": {
   "display_name": "Python 3.10.5 64-bit",
   "language": "python",
   "name": "python3"
  },
  "language_info": {
   "codemirror_mode": {
    "name": "ipython",
    "version": 3
   },
   "file_extension": ".py",
   "mimetype": "text/x-python",
   "name": "python",
   "nbconvert_exporter": "python",
   "pygments_lexer": "ipython3",
   "version": "3.10.5"
  },
  "orig_nbformat": 4,
  "vscode": {
   "interpreter": {
    "hash": "aa64e7184daae6dd576015e1a1a66f0c541bcfb9cde5feb52064ff5d249c9e32"
   }
  }
 },
 "nbformat": 4,
 "nbformat_minor": 2
}
