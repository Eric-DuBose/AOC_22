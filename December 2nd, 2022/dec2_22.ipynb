{
 "cells": [
  {
   "cell_type": "code",
   "execution_count": 97,
   "metadata": {},
   "outputs": [],
   "source": [
    "import aocd\n",
    "import os\n",
    "from collections import Counter\n",
    "import numpy as np\n",
    "import pandas as pd\n",
    "os.chdir('C:\\\\Users\\\\night\\\\AOC_22\\\\December 2nd, 2022')"
   ]
  },
  {
   "cell_type": "code",
   "execution_count": 110,
   "metadata": {},
   "outputs": [],
   "source": [
    "with open('input.txt') as f:\n",
    "    data = f.readlines()"
   ]
  },
  {
   "cell_type": "code",
   "execution_count": 111,
   "metadata": {},
   "outputs": [],
   "source": [
    "#Cleaning up the data, and getting our variables in order for scoring. \n",
    "rock = 1\n",
    "paper = 2\n",
    "scissors = 3\n",
    "loss = 0\n",
    "draw = 3\n",
    "win = 6"
   ]
  },
  {
   "cell_type": "code",
   "execution_count": 112,
   "metadata": {},
   "outputs": [],
   "source": [
    "# For this exercise, I felt it might be better to visualize and seperate our data into Rock Pandas Dataframe. \n",
    "# I split the matchup data into two columns, and cleaned up the input for further usage. \n",
    "\n",
    "def data_cleanup(data_file): \n",
    "    data = [i.strip() for i in data_file]\n",
    "    df = pd.DataFrame(data)\n",
    "    df.columns = ['Match']\n",
    "    df[['Villan', 'Hero']] = df['Match'].str.split(' ', 1, expand = True)\n",
    "    df = df.drop('Match', axis = 1)\n",
    "    return df\n",
    "\n",
    "def scoring(df):\n",
    "    play = {'A': 'Rock', 'B': 'Paper', 'C': 'Scissors', 'X': 'Rock', 'Y': 'Paper', 'Z': 'Scissors'}\n",
    "    df = df.replace({'Villan': play, 'Hero': play})\n",
    "    df['Villan Score'] = np.where(((df['Villan'] == 'Rock') & (df['Hero'] == 'Rock')), rock + draw,\n",
    "                 np.where(((df['Villan'] == 'Rock') & (df['Hero'] == 'Paper')), rock + loss,\n",
    "                 np.where(((df['Villan'] == 'Rock') & (df['Hero'] == 'Scissors')), rock + win,\n",
    "                 np.where(((df['Villan'] == 'Paper') & (df['Hero'] == 'Rock')), paper + win,\n",
    "                 np.where(((df['Villan'] == 'Paper') & (df['Hero'] == 'Paper')), paper + draw,\n",
    "                 np.where(((df['Villan'] == 'Paper') & (df['Hero'] == 'Scissors')), paper + loss,\n",
    "                 np.where(((df['Villan'] == 'Scissors') & (df['Hero'] == 'Rock')), scissors + loss,\n",
    "                 np.where(((df['Villan'] == 'Scissors') & (df['Hero'] == 'Paper')), scissors + win,\n",
    "                 np.where(((df['Villan'] == 'Scissors') & (df['Hero'] == 'Scissors')), scissors + draw,10000\n",
    "    )))))))))\n",
    "\n",
    "    df['Hero Score'] = np.where(((df['Hero'] == 'Rock') & (df['Villan'] == 'Rock')), rock + draw,\n",
    "                    np.where(((df['Hero'] == 'Rock') & (df['Villan'] == 'Paper')), rock + loss,\n",
    "                    np.where(((df['Hero'] == 'Rock') & (df['Villan'] == 'Scissors')), rock + win,\n",
    "                    np.where(((df['Hero'] == 'Paper') & (df['Villan'] == 'Rock')), paper + win,\n",
    "                    np.where(((df['Hero'] == 'Paper') & (df['Villan'] == 'Paper')), paper + draw,\n",
    "                    np.where(((df['Hero'] == 'Paper') & (df['Villan'] == 'Scissors')), paper + loss,\n",
    "                    np.where(((df['Hero'] == 'Scissors') & (df['Villan'] == 'Rock')), scissors + loss,\n",
    "                    np.where(((df['Hero'] == 'Scissors') & (df['Villan'] == 'Paper')), scissors + win,\n",
    "                    np.where(((df['Hero'] == 'Scissors') & (df['Villan'] == 'Scissors')), scissors + draw,10000\n",
    "    )))))))))\n",
    "    return df \n",
    "\n",
    "def adjusted_scoring(df):\n",
    "    play = {'A': 'Rock', 'B': 'Paper', 'C': 'Scissors', 'X': 'Lose', 'Y': 'Draw', 'Z': 'Win'}\n",
    "    df = df.replace({'Villan': play, 'Hero': play})\n",
    "    df['Hero Adjusted Score'] = np.where(((df['Hero'] == 'Draw') & (df['Villan'] == 'Rock')), draw + rock,\n",
    "                            np.where(((df['Hero'] == 'Draw') & (df['Villan'] == 'Paper')), draw + paper,\n",
    "                            np.where(((df['Hero'] == 'Draw') & (df['Villan'] == 'Scissors')), draw + scissors,\n",
    "                            np.where(((df['Hero'] == 'Lose') & (df['Villan'] == 'Rock')), loss + scissors,\n",
    "                            np.where(((df['Hero'] == 'Lose') & (df['Villan'] == 'Paper')), loss + rock,\n",
    "                            np.where(((df['Hero'] == 'Lose') & (df['Villan'] == 'Scissors')), loss + paper,\n",
    "                            np.where(((df['Hero'] == 'Win') & (df['Villan'] == 'Rock')), win + paper,\n",
    "                            np.where(((df['Hero'] == 'Win') & (df['Villan'] == 'Paper')), win + scissors,\n",
    "                            np.where(((df['Hero'] == 'Win') & (df['Villan'] == 'Scissors')), win + rock,10000\n",
    "    )))))))))\n",
    "    return df"
   ]
  },
  {
   "cell_type": "code",
   "execution_count": 113,
   "metadata": {},
   "outputs": [
    {
     "data": {
      "text/plain": [
       "10718"
      ]
     },
     "execution_count": 113,
     "metadata": {},
     "output_type": "execute_result"
    }
   ],
   "source": [
    "# Solve Part 1: What would your total score be if everything goes exactly according to your strategy guide?\n",
    "\n",
    "sum(scoring(data_cleanup(data))['Hero Score'])"
   ]
  },
  {
   "cell_type": "markdown",
   "metadata": {},
   "source": [
    "Now, we find out that the strategy guide has shifted. Our Player column actually tells us what the outcome of the game has to be. \n",
    "* Rock means Lose\n",
    "* Paper means Draw\n",
    "* Scissors means Win\n",
    "\n",
    "This means if our opponeent has Rock, we have to consider \"What do we need to hold, to lose to Rock?\". We adjust our outcomes to that, and we ultimately, land on scissors... yielding 3 total points. "
   ]
  },
  {
   "cell_type": "code",
   "execution_count": 114,
   "metadata": {},
   "outputs": [
    {
     "data": {
      "text/plain": [
       "14652"
      ]
     },
     "execution_count": 114,
     "metadata": {},
     "output_type": "execute_result"
    }
   ],
   "source": [
    "# Solve Part 2: What would your total score be if everything goes exactly according to your strategy guide?\n",
    "sum(adjusted_scoring(data_cleanup(data))['Hero Adjusted Score'])"
   ]
  },
  {
   "cell_type": "code",
   "execution_count": null,
   "metadata": {},
   "outputs": [],
   "source": []
  }
 ],
 "metadata": {
  "kernelspec": {
   "display_name": "Python 3.10.5 64-bit",
   "language": "python",
   "name": "python3"
  },
  "language_info": {
   "codemirror_mode": {
    "name": "ipython",
    "version": 3
   },
   "file_extension": ".py",
   "mimetype": "text/x-python",
   "name": "python",
   "nbconvert_exporter": "python",
   "pygments_lexer": "ipython3",
   "version": "3.10.5"
  },
  "orig_nbformat": 4,
  "vscode": {
   "interpreter": {
    "hash": "aa64e7184daae6dd576015e1a1a66f0c541bcfb9cde5feb52064ff5d249c9e32"
   }
  }
 },
 "nbformat": 4,
 "nbformat_minor": 2
}
