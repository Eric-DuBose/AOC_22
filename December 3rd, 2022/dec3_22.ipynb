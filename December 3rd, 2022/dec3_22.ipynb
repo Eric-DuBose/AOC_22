{
 "cells": [
  {
   "cell_type": "code",
   "execution_count": 1,
   "metadata": {},
   "outputs": [],
   "source": [
    "import aocd\n",
    "import os\n",
    "from collections import Counter\n",
    "os.chdir('C:\\\\Users\\\\night\\\\AOC_22\\\\December 3rd, 2022')"
   ]
  },
  {
   "cell_type": "code",
   "execution_count": 2,
   "metadata": {},
   "outputs": [],
   "source": [
    "with open('input.txt') as f:\n",
    "    data = f.readlines()"
   ]
  },
  {
   "cell_type": "code",
   "execution_count": 3,
   "metadata": {},
   "outputs": [],
   "source": [
    "priority = {'a':'1',\n",
    "            'b':'2',\n",
    "            'c':'3',\n",
    "            'd':'4',\n",
    "            'e':'5',\n",
    "            'f':'6',\n",
    "            'g':'7',\n",
    "            'h':'8',\n",
    "            'i':'9',\n",
    "            'j':'10',\n",
    "            'k':'11',\n",
    "            'l':'12',\n",
    "            'm':'13',\n",
    "            'n':'14',\n",
    "            'o':'15',\n",
    "            'p':'16',\n",
    "            'q':'17',\n",
    "            'r':'18',\n",
    "            's':'19',\n",
    "            't':'20',\n",
    "            'u':'21',\n",
    "            'v':'22',\n",
    "            'w':'23',\n",
    "            'x':'24',\n",
    "            'y':'25',\n",
    "            'z':'26',\n",
    "            'A':'27',\n",
    "            'B':'28',\n",
    "            'C':'29',\n",
    "            'D':'30',\n",
    "            'E':'31',\n",
    "            'F':'32',\n",
    "            'G':'33',\n",
    "            'H':'34',\n",
    "            'I':'35',\n",
    "            'J':'36',\n",
    "            'K':'37',\n",
    "            'L':'38',\n",
    "            'M':'39',\n",
    "            'N':'40',\n",
    "            'O':'41',\n",
    "            'P':'42',\n",
    "            'Q':'43',\n",
    "            'R':'44',\n",
    "            'S':'45',\n",
    "            'T':'46',\n",
    "            'U':'47',\n",
    "            'V':'48',\n",
    "            'W':'49',\n",
    "            'X':'50',\n",
    "            'Y':'51',\n",
    "            'Z':'52'            \n",
    "            }"
   ]
  },
  {
   "cell_type": "code",
   "execution_count": 5,
   "metadata": {},
   "outputs": [],
   "source": [
    "rucksacks = [i.strip() for i in data]\n",
    "\n",
    "def split_string(string):\n",
    "    n = len(string)\n",
    "    if n%2 == 0:\n",
    "        string1 = string[0:n//2]\n",
    "        string2 = string[n//2:]\n",
    "    else:\n",
    "        string1 = string[0:(n//2+1)]\n",
    "        string2 = string[(n//2+1):]\n",
    "    return string1, string2 \n",
    "\n",
    "\n",
    "\n"
   ]
  },
  {
   "cell_type": "code",
   "execution_count": 6,
   "metadata": {},
   "outputs": [
    {
     "data": {
      "text/plain": [
       "7766"
      ]
     },
     "execution_count": 6,
     "metadata": {},
     "output_type": "execute_result"
    }
   ],
   "source": [
    "# Solve Part 1: What's the sum of all matching values in the rucksacks given the alphanumeric value assignments? \n",
    "new = []\n",
    "for i in range(len(rucksacks)):\n",
    "    new.append(''.join(set(split_string(rucksacks[i])[0]).intersection(split_string(rucksacks[i])[1])))\n",
    "sum(list(map(int,[e.replace(key, val) for e in new for key, val in priority.items() if key in e])))"
   ]
  },
  {
   "cell_type": "code",
   "execution_count": 9,
   "metadata": {},
   "outputs": [
    {
     "data": {
      "text/plain": [
       "['j']"
      ]
     },
     "execution_count": 9,
     "metadata": {},
     "output_type": "execute_result"
    }
   ],
   "source": [
    "test = []\n",
    "test.append(''.join(set(rucksacks[0]).intersection(rucksacks[1]).intersection(rucksacks[2])))\n",
    "test"
   ]
  },
  {
   "cell_type": "code",
   "execution_count": 15,
   "metadata": {},
   "outputs": [
    {
     "data": {
      "text/plain": [
       "2415"
      ]
     },
     "execution_count": 15,
     "metadata": {},
     "output_type": "execute_result"
    }
   ],
   "source": [
    "# Solve Part 2: What's the common value amongst the 3 rucksack groups? (Grouping by 3 lines)\n",
    "part2 = []\n",
    "first = 0\n",
    "second = 1\n",
    "third = 2\n",
    "len(rucksacks) / 3\n",
    "for i in range(int(len(rucksacks)/3)):\n",
    "    part2.append(''.join(set(rucksacks[first]).intersection(rucksacks[second]).intersection(rucksacks[third])))\n",
    "    first = first + 3\n",
    "    second = second + 3\n",
    "    third = third + 3\n",
    "sum(list(map(int,[e.replace(key, val) for e in part2 for key, val in priority.items() if key in e])))"
   ]
  }
 ],
 "metadata": {
  "kernelspec": {
   "display_name": "Python 3.10.5 64-bit",
   "language": "python",
   "name": "python3"
  },
  "language_info": {
   "codemirror_mode": {
    "name": "ipython",
    "version": 3
   },
   "file_extension": ".py",
   "mimetype": "text/x-python",
   "name": "python",
   "nbconvert_exporter": "python",
   "pygments_lexer": "ipython3",
   "version": "3.10.5"
  },
  "orig_nbformat": 4,
  "vscode": {
   "interpreter": {
    "hash": "aa64e7184daae6dd576015e1a1a66f0c541bcfb9cde5feb52064ff5d249c9e32"
   }
  }
 },
 "nbformat": 4,
 "nbformat_minor": 2
}
