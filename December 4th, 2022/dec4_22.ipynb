{
 "cells": [
  {
   "cell_type": "code",
   "execution_count": 127,
   "metadata": {},
   "outputs": [],
   "source": [
    "import aocd\n",
    "import os\n",
    "from collections import Counter\n",
    "import pandas as pd\n",
    "os.chdir('C:\\\\Users\\\\night\\\\AOC_22\\\\December 4th, 2022')"
   ]
  },
  {
   "cell_type": "code",
   "execution_count": 128,
   "metadata": {},
   "outputs": [],
   "source": [
    "with open('input.txt') as f:\n",
    "    data = f.readlines()"
   ]
  },
  {
   "cell_type": "code",
   "execution_count": 129,
   "metadata": {},
   "outputs": [],
   "source": [
    "assignments = [i.strip() for i in data]"
   ]
  },
  {
   "cell_type": "code",
   "execution_count": 140,
   "metadata": {},
   "outputs": [],
   "source": [
    "def pairs(data):\n",
    "    count = 0 \n",
    "    for item in data:\n",
    "        a = int(item.replace('-',',').split(',')[0])\n",
    "        b = int(item.replace('-',',').split(',')[1])\n",
    "        c = int(item.replace('-',',').split(',')[2])\n",
    "        d = int(item.replace('-',',').split(',')[3])\n",
    "        if (((a <= c) and (b >= d)) or ((c <= a) and (d >= b))):\n",
    "            count = count + 1\n",
    "    return count\n",
    "\n",
    "def overlap(data):\n",
    "    count = 0 \n",
    "    for item in data:\n",
    "        range_1 = pd.Interval(int(item.replace('-',',').split(',')[0]), int(item.replace('-',',').split(',')[1]), closed = 'both')\n",
    "        range_2 = pd.Interval(int(item.replace('-',',').split(',')[2]), int(item.replace('-',',').split(',')[3]), closed = 'both')\n",
    "        if range_1.overlaps(range_2):\n",
    "            count = count + 1\n",
    "    return count\n"
   ]
  },
  {
   "cell_type": "code",
   "execution_count": 141,
   "metadata": {},
   "outputs": [
    {
     "data": {
      "text/plain": [
       "547"
      ]
     },
     "execution_count": 141,
     "metadata": {},
     "output_type": "execute_result"
    }
   ],
   "source": [
    "# Solve Part 1: In how many assignment pairs does one range fully contain the other?\n",
    "pairs(assignments)"
   ]
  },
  {
   "cell_type": "code",
   "execution_count": 142,
   "metadata": {},
   "outputs": [
    {
     "data": {
      "text/plain": [
       "843"
      ]
     },
     "execution_count": 142,
     "metadata": {},
     "output_type": "execute_result"
    }
   ],
   "source": [
    "# Solve Part 1: In how many assignment pairs do the ranges overlap?\n",
    "overlap(assignments)"
   ]
  }
 ],
 "metadata": {
  "kernelspec": {
   "display_name": "Python 3.10.5 64-bit",
   "language": "python",
   "name": "python3"
  },
  "language_info": {
   "codemirror_mode": {
    "name": "ipython",
    "version": 3
   },
   "file_extension": ".py",
   "mimetype": "text/x-python",
   "name": "python",
   "nbconvert_exporter": "python",
   "pygments_lexer": "ipython3",
   "version": "3.10.5 (tags/v3.10.5:f377153, Jun  6 2022, 16:14:13) [MSC v.1929 64 bit (AMD64)]"
  },
  "orig_nbformat": 4,
  "vscode": {
   "interpreter": {
    "hash": "aa64e7184daae6dd576015e1a1a66f0c541bcfb9cde5feb52064ff5d249c9e32"
   }
  }
 },
 "nbformat": 4,
 "nbformat_minor": 2
}
